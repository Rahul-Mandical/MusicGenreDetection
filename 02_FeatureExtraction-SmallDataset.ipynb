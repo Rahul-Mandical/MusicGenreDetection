{
 "cells": [
  {
   "cell_type": "code",
   "execution_count": 1,
   "id": "42f715fc",
   "metadata": {},
   "outputs": [],
   "source": [
    "import pandas as pd\n",
    "import math\n",
    "import os\n",
    "import librosa\n",
    "from tqdm import tqdm\n",
    "import warnings\n",
    "warnings.filterwarnings(\"ignore\")"
   ]
  },
  {
   "cell_type": "code",
   "execution_count": 2,
   "id": "04b8539f",
   "metadata": {},
   "outputs": [],
   "source": [
    "musicLocation = './fma_small_tracks'\n",
    "tracksMetaData = pd.read_csv('./tracksMetaData.csv')"
   ]
  },
  {
   "cell_type": "code",
   "execution_count": 3,
   "id": "377c670e",
   "metadata": {},
   "outputs": [
    {
     "data": {
      "text/html": [
       "<div>\n",
       "<style scoped>\n",
       "    .dataframe tbody tr th:only-of-type {\n",
       "        vertical-align: middle;\n",
       "    }\n",
       "\n",
       "    .dataframe tbody tr th {\n",
       "        vertical-align: top;\n",
       "    }\n",
       "\n",
       "    .dataframe thead th {\n",
       "        text-align: right;\n",
       "    }\n",
       "</style>\n",
       "<table border=\"1\" class=\"dataframe\">\n",
       "  <thead>\n",
       "    <tr style=\"text-align: right;\">\n",
       "      <th></th>\n",
       "      <th>id</th>\n",
       "      <th>trackName</th>\n",
       "      <th>genre</th>\n",
       "      <th>trackArtist</th>\n",
       "    </tr>\n",
       "  </thead>\n",
       "  <tbody>\n",
       "    <tr>\n",
       "      <th>0</th>\n",
       "      <td>2</td>\n",
       "      <td>Food</td>\n",
       "      <td>Hip-Hop</td>\n",
       "      <td>AWOL</td>\n",
       "    </tr>\n",
       "    <tr>\n",
       "      <th>1</th>\n",
       "      <td>5</td>\n",
       "      <td>This World</td>\n",
       "      <td>Hip-Hop</td>\n",
       "      <td>AWOL</td>\n",
       "    </tr>\n",
       "    <tr>\n",
       "      <th>2</th>\n",
       "      <td>10</td>\n",
       "      <td>Freeway</td>\n",
       "      <td>Pop</td>\n",
       "      <td>Kurt Vile</td>\n",
       "    </tr>\n",
       "    <tr>\n",
       "      <th>3</th>\n",
       "      <td>140</td>\n",
       "      <td>Queen Of The Wires</td>\n",
       "      <td>Folk</td>\n",
       "      <td>Alec K. Redfearn &amp; the Eyesores</td>\n",
       "    </tr>\n",
       "    <tr>\n",
       "      <th>4</th>\n",
       "      <td>141</td>\n",
       "      <td>Ohio</td>\n",
       "      <td>Folk</td>\n",
       "      <td>Alec K. Redfearn &amp; the Eyesores</td>\n",
       "    </tr>\n",
       "    <tr>\n",
       "      <th>...</th>\n",
       "      <td>...</td>\n",
       "      <td>...</td>\n",
       "      <td>...</td>\n",
       "      <td>...</td>\n",
       "    </tr>\n",
       "    <tr>\n",
       "      <th>7995</th>\n",
       "      <td>154308</td>\n",
       "      <td>MIA</td>\n",
       "      <td>Hip-Hop</td>\n",
       "      <td>Fleslit</td>\n",
       "    </tr>\n",
       "    <tr>\n",
       "      <th>7996</th>\n",
       "      <td>154309</td>\n",
       "      <td>A1 Symphony</td>\n",
       "      <td>Hip-Hop</td>\n",
       "      <td>Fleslit</td>\n",
       "    </tr>\n",
       "    <tr>\n",
       "      <th>7997</th>\n",
       "      <td>154413</td>\n",
       "      <td>Do Easy</td>\n",
       "      <td>Pop</td>\n",
       "      <td>Tasseomancy</td>\n",
       "    </tr>\n",
       "    <tr>\n",
       "      <th>7998</th>\n",
       "      <td>154414</td>\n",
       "      <td>Dead Can Dance (uncensored)</td>\n",
       "      <td>Pop</td>\n",
       "      <td>Tasseomancy</td>\n",
       "    </tr>\n",
       "    <tr>\n",
       "      <th>7999</th>\n",
       "      <td>155066</td>\n",
       "      <td>Roy</td>\n",
       "      <td>Hip-Hop</td>\n",
       "      <td>JBlanked</td>\n",
       "    </tr>\n",
       "  </tbody>\n",
       "</table>\n",
       "<p>8000 rows × 4 columns</p>\n",
       "</div>"
      ],
      "text/plain": [
       "          id                    trackName    genre  \\\n",
       "0          2                         Food  Hip-Hop   \n",
       "1          5                   This World  Hip-Hop   \n",
       "2         10                      Freeway      Pop   \n",
       "3        140           Queen Of The Wires     Folk   \n",
       "4        141                         Ohio     Folk   \n",
       "...      ...                          ...      ...   \n",
       "7995  154308                          MIA  Hip-Hop   \n",
       "7996  154309                  A1 Symphony  Hip-Hop   \n",
       "7997  154413                      Do Easy      Pop   \n",
       "7998  154414  Dead Can Dance (uncensored)      Pop   \n",
       "7999  155066                          Roy  Hip-Hop   \n",
       "\n",
       "                          trackArtist  \n",
       "0                                AWOL  \n",
       "1                                AWOL  \n",
       "2                           Kurt Vile  \n",
       "3     Alec K. Redfearn & the Eyesores  \n",
       "4     Alec K. Redfearn & the Eyesores  \n",
       "...                               ...  \n",
       "7995                          Fleslit  \n",
       "7996                          Fleslit  \n",
       "7997                      Tasseomancy  \n",
       "7998                      Tasseomancy  \n",
       "7999                         JBlanked  \n",
       "\n",
       "[8000 rows x 4 columns]"
      ]
     },
     "execution_count": 3,
     "metadata": {},
     "output_type": "execute_result"
    }
   ],
   "source": [
    "tracksMetaData"
   ]
  },
  {
   "cell_type": "code",
   "execution_count": 4,
   "id": "1e29b97d",
   "metadata": {},
   "outputs": [],
   "source": [
    "#Clean up the below code - non pl det"
   ]
  },
  {
   "cell_type": "code",
   "execution_count": 5,
   "id": "cbdfa161",
   "metadata": {},
   "outputs": [],
   "source": [
    "def extractFeatures(musicPath,seg1,seg2,\n",
    "               num_mfcc=15,n_fft=2048,hop_length=512):\n",
    "    \n",
    "\n",
    "    sample_rate = 22050\n",
    "    samples_per_track = sample_rate * 29\n",
    "    num_segment=10\n",
    "    \n",
    "    data = pd.DataFrame()\n",
    "    broken = pd.DataFrame()\n",
    "    cnt = 0\n",
    "    totalCnt = 0\n",
    "    samples_per_segment = int(samples_per_track / num_segment)\n",
    "    num_mfcc_vectors_per_segment = math.ceil(samples_per_segment / hop_length)\n",
    "    for i, (dirpath,dirnames,filenames) in enumerate(os.walk(musicPath)):\n",
    "        for f in tqdm(filenames[seg1:seg2]):\n",
    "            try:\n",
    "                file_path = musicPath +\"/\" + \"/\" + str(f)\n",
    "                y, sr = librosa.load(file_path, sr = sample_rate)\n",
    "                for n in range(num_segment):\n",
    "                    totalCnt = totalCnt + 1\n",
    "                    start = samples_per_segment * n\n",
    "                    finish = start + samples_per_segment\n",
    "\n",
    "                    mfcc = librosa.feature.mfcc(y[start:finish], \n",
    "                           sample_rate, n_mfcc = num_mfcc, \n",
    "                       n_fft = n_fft, hop_length = hop_length)\n",
    "                    mfcc = mfcc.T\n",
    "                    idd = str(int(f.split('.')[0]))\n",
    "                    if len(mfcc) == num_mfcc_vectors_per_segment:\n",
    "                        df = pd.DataFrame()\n",
    "                        df['id'] = [idd+'_'+str(n)]\n",
    "                        df['genre'] = tracksMetaData.loc[tracksMetaData['id'] == int(idd)]['genre'].values\n",
    "                        for i in range(num_mfcc):\n",
    "                            df['mfccFeature_'+str(i)] = [list(mfcc[i])]\n",
    "                        data = pd.concat([data,df])\n",
    "                        cnt = cnt + 1\n",
    "            except Exception as e:\n",
    "                df = pd.DataFrame()\n",
    "                df['filename'] = [f]\n",
    "                print('Broke at '+ f,e)\n",
    "                broken = pd.concat([broken,df])\n",
    "                continue\n",
    "                \n",
    "    print(totalCnt,cnt)\n",
    "    return data,broken\n",
    "    "
   ]
  },
  {
   "cell_type": "code",
   "execution_count": 7,
   "id": "64f0a71f",
   "metadata": {},
   "outputs": [
    {
     "name": "stderr",
     "output_type": "stream",
     "text": [
      "100%|██████████████████████████████████████████████████████████████████████████████| 1000/1000 [13:04<00:00,  1.27it/s]\n"
     ]
    },
    {
     "name": "stdout",
     "output_type": "stream",
     "text": [
      "10000 10000\n"
     ]
    }
   ],
   "source": [
    "data,broken = extractFeatures(musicLocation,0,1000)\n",
    "data.to_csv('tracksAudioFeatures/tracksAudioFeatures_part_1.csv')"
   ]
  },
  {
   "cell_type": "code",
   "execution_count": 8,
   "id": "033784e8",
   "metadata": {},
   "outputs": [
    {
     "name": "stderr",
     "output_type": "stream",
     "text": [
      "100%|██████████████████████████████████████████████████████████████████████████████| 1000/1000 [13:02<00:00,  1.28it/s]\n"
     ]
    },
    {
     "name": "stdout",
     "output_type": "stream",
     "text": [
      "10000 10000\n"
     ]
    }
   ],
   "source": [
    "data2,broken2 = extractFeatures(musicLocation,1000,2000)\n",
    "data2.to_csv('tracksAudioFeatures/tracksAudioFeatures_part_2.csv')"
   ]
  },
  {
   "cell_type": "code",
   "execution_count": 9,
   "id": "b2ef6c56",
   "metadata": {},
   "outputs": [
    {
     "name": "stderr",
     "output_type": "stream",
     "text": [
      "100%|██████████████████████████████████████████████████████████████████████████████████████████████████████████████████████████| 1000/1000 [13:13<00:00,  1.26it/s]\n"
     ]
    },
    {
     "name": "stdout",
     "output_type": "stream",
     "text": [
      "10000 10000\n"
     ]
    }
   ],
   "source": [
    "data3,broken3 = extractFeatures(musicLocation,2000,3000)\n",
    "data3.to_csv('tracksAudioFeatures/tracksAudioFeatures_part_3.csv')"
   ]
  },
  {
   "cell_type": "code",
   "execution_count": 10,
   "id": "a5da7c4a",
   "metadata": {},
   "outputs": [
    {
     "name": "stderr",
     "output_type": "stream",
     "text": [
      "100%|██████████████████████████████████████████████████████████████████████████████████████████████████████████████████████████| 1000/1000 [13:21<00:00,  1.25it/s]\n"
     ]
    },
    {
     "name": "stdout",
     "output_type": "stream",
     "text": [
      "10000 10000\n"
     ]
    }
   ],
   "source": [
    "data4,broken4 = extractFeatures(musicLocation,3000,4000)\n",
    "data4.to_csv('tracksAudioFeatures/tracksAudioFeatures_part_4.csv')"
   ]
  },
  {
   "cell_type": "code",
   "execution_count": 32,
   "id": "c36d395b",
   "metadata": {},
   "outputs": [
    {
     "name": "stderr",
     "output_type": "stream",
     "text": [
      "100%|████████████████████████████████████████████████████████████████████████████████████████████████████████████████████████████| 400/400 [04:19<00:00,  1.54it/s]\n"
     ]
    },
    {
     "name": "stdout",
     "output_type": "stream",
     "text": [
      "4000 4000\n"
     ]
    }
   ],
   "source": [
    "data5,broken5 = extractFeatures(musicLocation,4000,4400)\n",
    "data5.to_csv('tracksAudioFeatures/tracksAudioFeatures_part_5.csv')"
   ]
  },
  {
   "cell_type": "code",
   "execution_count": 52,
   "id": "fe16edfc",
   "metadata": {},
   "outputs": [
    {
     "name": "stderr",
     "output_type": "stream",
     "text": [
      "  4%|████▊                                                                                                                        | 23/600 [00:15<06:28,  1.48it/s]"
     ]
    },
    {
     "name": "stdout",
     "output_type": "stream",
     "text": [
      "Broke at 098565.mp3 \n",
      "Broke at 098567.mp3 \n",
      "Broke at 098569.mp3 \n"
     ]
    },
    {
     "name": "stderr",
     "output_type": "stream",
     "text": [
      " 12%|██████████████▌                                                                                                              | 70/600 [00:43<05:42,  1.55it/s]"
     ]
    },
    {
     "name": "stdout",
     "output_type": "stream",
     "text": [
      "Broke at 099134.mp3 \n"
     ]
    },
    {
     "name": "stderr",
     "output_type": "stream",
     "text": [
      " 84%|███████████████████████████████████████████████████████████████████████████████████████████████████████▉                    | 503/600 [05:25<00:58,  1.65it/s]"
     ]
    },
    {
     "name": "stdout",
     "output_type": "stream",
     "text": [
      "Broke at 108925.mp3 \n"
     ]
    },
    {
     "name": "stderr",
     "output_type": "stream",
     "text": [
      "100%|████████████████████████████████████████████████████████████████████████████████████████████████████████████████████████████| 600/600 [06:30<00:00,  1.54it/s]\n"
     ]
    },
    {
     "name": "stdout",
     "output_type": "stream",
     "text": [
      "5950 5950\n"
     ]
    }
   ],
   "source": [
    "data6,broken6 = extractFeatures(musicLocation,4400,5000)\n",
    "data6.to_csv('tracksAudioFeatures/tracksAudioFeatures_part_6.csv')\n",
    "broken6.to_csv('tracksAudioFeatures/broken_tracksAudioFeatures_part_6.csv')"
   ]
  },
  {
   "cell_type": "code",
   "execution_count": 7,
   "id": "55b6d805",
   "metadata": {},
   "outputs": [
    {
     "name": "stderr",
     "output_type": "stream",
     "text": [
      "100%|██████████████████████████████████████████████████████████████████████████████| 1000/1000 [12:30<00:00,  1.33it/s]\n"
     ]
    },
    {
     "name": "stdout",
     "output_type": "stream",
     "text": [
      "10000 10000\n"
     ]
    }
   ],
   "source": [
    "data7,broken7 = extractFeatures(musicLocation,5000,6000)\n",
    "data7.to_csv('tracksAudioFeatures/tracksAudioFeatures_part_7.csv')\n",
    "broken7.to_csv('tracksAudioFeatures/broken_tracksAudioFeatures_part_7.csv')"
   ]
  },
  {
   "cell_type": "code",
   "execution_count": 8,
   "id": "4a6702d9",
   "metadata": {},
   "outputs": [
    {
     "name": "stderr",
     "output_type": "stream",
     "text": [
      " 96%|████████████████████████████████████████████████████████████████████████████▏  | 965/1000 [10:33<00:22,  1.59it/s]"
     ]
    },
    {
     "name": "stdout",
     "output_type": "stream",
     "text": [
      "Broke at 133297.mp3 \n"
     ]
    },
    {
     "name": "stderr",
     "output_type": "stream",
     "text": [
      "100%|██████████████████████████████████████████████████████████████████████████████| 1000/1000 [10:55<00:00,  1.52it/s]\n"
     ]
    },
    {
     "name": "stdout",
     "output_type": "stream",
     "text": [
      "9990 9990\n"
     ]
    }
   ],
   "source": [
    "data8,broken8 = extractFeatures(musicLocation,6000,7000)\n",
    "data8.to_csv('tracksAudioFeatures/tracksAudioFeatures_part_8.csv')\n",
    "broken8.to_csv('tracksAudioFeatures/broken_tracksAudioFeatures_part_8.csv')"
   ]
  },
  {
   "cell_type": "code",
   "execution_count": 9,
   "id": "d2ddd122",
   "metadata": {},
   "outputs": [
    {
     "name": "stderr",
     "output_type": "stream",
     "text": [
      "100%|██████████████████████████████████████████████████████████████████████████████| 1000/1000 [10:29<00:00,  1.59it/s]\n"
     ]
    },
    {
     "name": "stdout",
     "output_type": "stream",
     "text": [
      "10000 10000\n"
     ]
    }
   ],
   "source": [
    "data9,broken9 = extractFeatures(musicLocation,7000,8000)\n",
    "data9.to_csv('tracksAudioFeatures/tracksAudioFeatures_part_9.csv')\n",
    "broken9.to_csv('tracksAudioFeatures/broken_tracksAudioFeatures_part_9.csv')"
   ]
  },
  {
   "cell_type": "code",
   "execution_count": 51,
   "id": "6764e09d",
   "metadata": {},
   "outputs": [
    {
     "data": {
      "text/plain": [
       "960"
      ]
     },
     "execution_count": 51,
     "metadata": {},
     "output_type": "execute_result"
    }
   ],
   "source": [
    "#Joining all parts"
   ]
  },
  {
   "cell_type": "code",
   "execution_count": 10,
   "id": "ce4ad9dd",
   "metadata": {},
   "outputs": [],
   "source": [
    "tracksAudioFeaturesComplete = pd.read_csv('tracksAudioFeatures/tracksAudioFeaturesComplete.csv')\n",
    "tracksAudioFeaturesComplete = pd.concat([tracksAudioFeaturesComplete,data7,data8,data9])"
   ]
  },
  {
   "cell_type": "code",
   "execution_count": 11,
   "id": "b2634db7",
   "metadata": {},
   "outputs": [
    {
     "data": {
      "text/html": [
       "<div>\n",
       "<style scoped>\n",
       "    .dataframe tbody tr th:only-of-type {\n",
       "        vertical-align: middle;\n",
       "    }\n",
       "\n",
       "    .dataframe tbody tr th {\n",
       "        vertical-align: top;\n",
       "    }\n",
       "\n",
       "    .dataframe thead th {\n",
       "        text-align: right;\n",
       "    }\n",
       "</style>\n",
       "<table border=\"1\" class=\"dataframe\">\n",
       "  <thead>\n",
       "    <tr style=\"text-align: right;\">\n",
       "      <th></th>\n",
       "      <th>Unnamed: 0</th>\n",
       "      <th>id</th>\n",
       "      <th>genre</th>\n",
       "      <th>mfccFeature_0</th>\n",
       "      <th>mfccFeature_1</th>\n",
       "      <th>mfccFeature_2</th>\n",
       "      <th>mfccFeature_3</th>\n",
       "      <th>mfccFeature_4</th>\n",
       "      <th>mfccFeature_5</th>\n",
       "      <th>mfccFeature_6</th>\n",
       "      <th>mfccFeature_7</th>\n",
       "      <th>mfccFeature_8</th>\n",
       "      <th>mfccFeature_9</th>\n",
       "      <th>mfccFeature_10</th>\n",
       "      <th>mfccFeature_11</th>\n",
       "      <th>mfccFeature_12</th>\n",
       "      <th>mfccFeature_13</th>\n",
       "      <th>mfccFeature_14</th>\n",
       "    </tr>\n",
       "  </thead>\n",
       "  <tbody>\n",
       "    <tr>\n",
       "      <th>0</th>\n",
       "      <td>0.0</td>\n",
       "      <td>2_0</td>\n",
       "      <td>Hip-Hop</td>\n",
       "      <td>[-332.44687, 97.43091, -26.84237, 20.25388, -5...</td>\n",
       "      <td>[-203.70258, 96.584625, -37.737457, 28.544512,...</td>\n",
       "      <td>[-162.45903, 69.69548, -23.571632, 13.021025, ...</td>\n",
       "      <td>[-118.99883, 13.261637, 8.335249, -10.720405, ...</td>\n",
       "      <td>[-83.91784, -13.703581, 2.872005, -16.44916, -...</td>\n",
       "      <td>[-71.01079, -17.533642, -2.7777915, -14.175312...</td>\n",
       "      <td>[-61.1223, 0.5392928, -0.52603406, -7.4635944,...</td>\n",
       "      <td>[-68.517044, 36.002197, -22.791475, -1.6859301...</td>\n",
       "      <td>[-86.94825, 69.21834, -46.25065, 16.169807, -1...</td>\n",
       "      <td>[-97.932106, 73.842766, -47.47429, 26.072731, ...</td>\n",
       "      <td>[-118.49808, 76.997536, -49.213326, 32.85444, ...</td>\n",
       "      <td>[-141.47899, 75.60271, -47.858818, 43.921196, ...</td>\n",
       "      <td>[-144.54657, 73.51131, -42.571526, 41.40492, -...</td>\n",
       "      <td>[-115.76852, 71.06869, -31.96592, 30.187737, -...</td>\n",
       "      <td>[-96.369934, 52.596283, -27.740112, 22.988165,...</td>\n",
       "    </tr>\n",
       "    <tr>\n",
       "      <th>1</th>\n",
       "      <td>0.0</td>\n",
       "      <td>2_1</td>\n",
       "      <td>Hip-Hop</td>\n",
       "      <td>[-167.1629, 54.913902, -21.926424, 11.215975, ...</td>\n",
       "      <td>[-121.19227, 42.88315, -12.065105, 13.065236, ...</td>\n",
       "      <td>[-104.05949, 54.89325, -16.573524, 7.8606257, ...</td>\n",
       "      <td>[-109.70933, 79.04125, -33.459846, -5.494457, ...</td>\n",
       "      <td>[-94.5948, 61.24901, -29.69286, -6.5422115, -1...</td>\n",
       "      <td>[-93.084236, 45.727867, -30.063911, -2.4708047...</td>\n",
       "      <td>[-108.03207, 55.348824, -40.49533, 1.0745531, ...</td>\n",
       "      <td>[-126.76612, 71.08362, -50.491173, 10.799296, ...</td>\n",
       "      <td>[-106.014915, 81.138664, -56.39544, 20.833122,...</td>\n",
       "      <td>[-81.96375, 60.201477, -56.788017, 19.621292, ...</td>\n",
       "      <td>[-82.40284, 44.833633, -52.449524, 17.18211, -...</td>\n",
       "      <td>[-91.2174, 36.981705, -45.237736, 15.399293, -...</td>\n",
       "      <td>[-94.444954, 33.28783, -40.285347, 14.76215, -...</td>\n",
       "      <td>[-99.30495, 35.224487, -36.45945, 15.216014, -...</td>\n",
       "      <td>[-112.03816, 39.81852, -34.19614, 17.009323, -...</td>\n",
       "    </tr>\n",
       "    <tr>\n",
       "      <th>2</th>\n",
       "      <td>0.0</td>\n",
       "      <td>2_2</td>\n",
       "      <td>Hip-Hop</td>\n",
       "      <td>[-131.97235, 82.21467, -2.8627734, 31.514154, ...</td>\n",
       "      <td>[-98.76231, 72.10397, -7.330654, 36.00744, 12....</td>\n",
       "      <td>[-89.68816, 46.35125, -12.542206, 34.631298, 1...</td>\n",
       "      <td>[-63.245674, 17.54417, -12.074739, 23.98394, 0...</td>\n",
       "      <td>[-53.317085, 5.977093, -13.520201, 16.570484, ...</td>\n",
       "      <td>[-51.943798, 8.158983, -12.625027, 15.314621, ...</td>\n",
       "      <td>[-57.20285, 7.7898283, -5.312709, 5.7294493, 0...</td>\n",
       "      <td>[-67.693375, -4.58751, 7.622322, -2.2281508, 0...</td>\n",
       "      <td>[-75.358116, -6.1585245, 3.000997, 0.22121572,...</td>\n",
       "      <td>[-95.88524, 9.298707, -11.808292, 5.2208476, -...</td>\n",
       "      <td>[-135.72203, 33.54156, -30.631496, 20.967804, ...</td>\n",
       "      <td>[-120.73574, 12.558679, -12.888041, 18.465538,...</td>\n",
       "      <td>[-81.81689, 7.2747955, 12.102402, 14.891207, -...</td>\n",
       "      <td>[-53.06991, 28.00821, 6.76112, 18.532784, 13.0...</td>\n",
       "      <td>[-51.70062, 48.94967, -15.225374, 22.308327, 0...</td>\n",
       "    </tr>\n",
       "    <tr>\n",
       "      <th>3</th>\n",
       "      <td>0.0</td>\n",
       "      <td>2_3</td>\n",
       "      <td>Hip-Hop</td>\n",
       "      <td>[-151.43661, 20.052582, 8.522151, 2.4156737, -...</td>\n",
       "      <td>[-129.86955, 20.988953, 4.7685385, 5.4881773, ...</td>\n",
       "      <td>[-122.48583, 25.841784, -8.055781, 0.6984769, ...</td>\n",
       "      <td>[-65.05738, 31.860912, -7.3838606, -1.393583, ...</td>\n",
       "      <td>[-44.000446, 48.48786, -5.248827, 9.404843, 2....</td>\n",
       "      <td>[-71.738434, 59.260803, -19.337349, 13.286613,...</td>\n",
       "      <td>[-79.565414, 71.126724, -32.251236, 12.700588,...</td>\n",
       "      <td>[-67.56387, 59.71541, -37.41761, 14.832272, 4....</td>\n",
       "      <td>[-63.442482, 44.686607, -39.162395, 17.373161,...</td>\n",
       "      <td>[-73.63678, 44.376003, -33.14872, 19.103493, -...</td>\n",
       "      <td>[-92.85627, 50.313625, -27.092068, 24.813234, ...</td>\n",
       "      <td>[-110.794426, 60.969246, -27.25241, 27.65341, ...</td>\n",
       "      <td>[-129.16501, 68.22477, -29.361546, 32.732735, ...</td>\n",
       "      <td>[-146.1118, 66.46302, -26.96767, 32.903393, -2...</td>\n",
       "      <td>[-135.00584, 69.163635, -25.27483, 24.135199, ...</td>\n",
       "    </tr>\n",
       "    <tr>\n",
       "      <th>4</th>\n",
       "      <td>0.0</td>\n",
       "      <td>2_4</td>\n",
       "      <td>Hip-Hop</td>\n",
       "      <td>[-210.30072, 103.75718, -34.95427, 26.678871, ...</td>\n",
       "      <td>[-177.48708, 90.76193, -30.733025, 21.317474, ...</td>\n",
       "      <td>[-112.03132, 35.282906, 3.721495, 4.8187933, -...</td>\n",
       "      <td>[-73.869385, 27.987633, 2.1975927, 9.443258, -...</td>\n",
       "      <td>[-65.83106, 48.488716, -9.216342, 15.012517, -...</td>\n",
       "      <td>[-78.454895, 67.0973, -23.89037, 15.098409, -9...</td>\n",
       "      <td>[-101.35806, 71.93895, -33.571938, 13.945702, ...</td>\n",
       "      <td>[-113.99928, 71.38299, -42.02159, 27.524387, -...</td>\n",
       "      <td>[-113.6451, 67.423645, -45.28057, 30.962358, -...</td>\n",
       "      <td>[-116.33909, 66.035706, -25.388447, 32.84725, ...</td>\n",
       "      <td>[-113.5275, 54.00138, -1.6725404, 26.373112, -...</td>\n",
       "      <td>[-113.74422, 39.605103, 3.148195, 16.654724, -...</td>\n",
       "      <td>[-108.198296, 48.04848, 7.786687, 8.575267, -1...</td>\n",
       "      <td>[-88.32984, 75.2619, -6.3937626, 0.48765588, -...</td>\n",
       "      <td>[-94.94488, 91.84897, -35.194893, 0.31466606, ...</td>\n",
       "    </tr>\n",
       "  </tbody>\n",
       "</table>\n",
       "</div>"
      ],
      "text/plain": [
       "   Unnamed: 0   id    genre  \\\n",
       "0         0.0  2_0  Hip-Hop   \n",
       "1         0.0  2_1  Hip-Hop   \n",
       "2         0.0  2_2  Hip-Hop   \n",
       "3         0.0  2_3  Hip-Hop   \n",
       "4         0.0  2_4  Hip-Hop   \n",
       "\n",
       "                                       mfccFeature_0  \\\n",
       "0  [-332.44687, 97.43091, -26.84237, 20.25388, -5...   \n",
       "1  [-167.1629, 54.913902, -21.926424, 11.215975, ...   \n",
       "2  [-131.97235, 82.21467, -2.8627734, 31.514154, ...   \n",
       "3  [-151.43661, 20.052582, 8.522151, 2.4156737, -...   \n",
       "4  [-210.30072, 103.75718, -34.95427, 26.678871, ...   \n",
       "\n",
       "                                       mfccFeature_1  \\\n",
       "0  [-203.70258, 96.584625, -37.737457, 28.544512,...   \n",
       "1  [-121.19227, 42.88315, -12.065105, 13.065236, ...   \n",
       "2  [-98.76231, 72.10397, -7.330654, 36.00744, 12....   \n",
       "3  [-129.86955, 20.988953, 4.7685385, 5.4881773, ...   \n",
       "4  [-177.48708, 90.76193, -30.733025, 21.317474, ...   \n",
       "\n",
       "                                       mfccFeature_2  \\\n",
       "0  [-162.45903, 69.69548, -23.571632, 13.021025, ...   \n",
       "1  [-104.05949, 54.89325, -16.573524, 7.8606257, ...   \n",
       "2  [-89.68816, 46.35125, -12.542206, 34.631298, 1...   \n",
       "3  [-122.48583, 25.841784, -8.055781, 0.6984769, ...   \n",
       "4  [-112.03132, 35.282906, 3.721495, 4.8187933, -...   \n",
       "\n",
       "                                       mfccFeature_3  \\\n",
       "0  [-118.99883, 13.261637, 8.335249, -10.720405, ...   \n",
       "1  [-109.70933, 79.04125, -33.459846, -5.494457, ...   \n",
       "2  [-63.245674, 17.54417, -12.074739, 23.98394, 0...   \n",
       "3  [-65.05738, 31.860912, -7.3838606, -1.393583, ...   \n",
       "4  [-73.869385, 27.987633, 2.1975927, 9.443258, -...   \n",
       "\n",
       "                                       mfccFeature_4  \\\n",
       "0  [-83.91784, -13.703581, 2.872005, -16.44916, -...   \n",
       "1  [-94.5948, 61.24901, -29.69286, -6.5422115, -1...   \n",
       "2  [-53.317085, 5.977093, -13.520201, 16.570484, ...   \n",
       "3  [-44.000446, 48.48786, -5.248827, 9.404843, 2....   \n",
       "4  [-65.83106, 48.488716, -9.216342, 15.012517, -...   \n",
       "\n",
       "                                       mfccFeature_5  \\\n",
       "0  [-71.01079, -17.533642, -2.7777915, -14.175312...   \n",
       "1  [-93.084236, 45.727867, -30.063911, -2.4708047...   \n",
       "2  [-51.943798, 8.158983, -12.625027, 15.314621, ...   \n",
       "3  [-71.738434, 59.260803, -19.337349, 13.286613,...   \n",
       "4  [-78.454895, 67.0973, -23.89037, 15.098409, -9...   \n",
       "\n",
       "                                       mfccFeature_6  \\\n",
       "0  [-61.1223, 0.5392928, -0.52603406, -7.4635944,...   \n",
       "1  [-108.03207, 55.348824, -40.49533, 1.0745531, ...   \n",
       "2  [-57.20285, 7.7898283, -5.312709, 5.7294493, 0...   \n",
       "3  [-79.565414, 71.126724, -32.251236, 12.700588,...   \n",
       "4  [-101.35806, 71.93895, -33.571938, 13.945702, ...   \n",
       "\n",
       "                                       mfccFeature_7  \\\n",
       "0  [-68.517044, 36.002197, -22.791475, -1.6859301...   \n",
       "1  [-126.76612, 71.08362, -50.491173, 10.799296, ...   \n",
       "2  [-67.693375, -4.58751, 7.622322, -2.2281508, 0...   \n",
       "3  [-67.56387, 59.71541, -37.41761, 14.832272, 4....   \n",
       "4  [-113.99928, 71.38299, -42.02159, 27.524387, -...   \n",
       "\n",
       "                                       mfccFeature_8  \\\n",
       "0  [-86.94825, 69.21834, -46.25065, 16.169807, -1...   \n",
       "1  [-106.014915, 81.138664, -56.39544, 20.833122,...   \n",
       "2  [-75.358116, -6.1585245, 3.000997, 0.22121572,...   \n",
       "3  [-63.442482, 44.686607, -39.162395, 17.373161,...   \n",
       "4  [-113.6451, 67.423645, -45.28057, 30.962358, -...   \n",
       "\n",
       "                                       mfccFeature_9  \\\n",
       "0  [-97.932106, 73.842766, -47.47429, 26.072731, ...   \n",
       "1  [-81.96375, 60.201477, -56.788017, 19.621292, ...   \n",
       "2  [-95.88524, 9.298707, -11.808292, 5.2208476, -...   \n",
       "3  [-73.63678, 44.376003, -33.14872, 19.103493, -...   \n",
       "4  [-116.33909, 66.035706, -25.388447, 32.84725, ...   \n",
       "\n",
       "                                      mfccFeature_10  \\\n",
       "0  [-118.49808, 76.997536, -49.213326, 32.85444, ...   \n",
       "1  [-82.40284, 44.833633, -52.449524, 17.18211, -...   \n",
       "2  [-135.72203, 33.54156, -30.631496, 20.967804, ...   \n",
       "3  [-92.85627, 50.313625, -27.092068, 24.813234, ...   \n",
       "4  [-113.5275, 54.00138, -1.6725404, 26.373112, -...   \n",
       "\n",
       "                                      mfccFeature_11  \\\n",
       "0  [-141.47899, 75.60271, -47.858818, 43.921196, ...   \n",
       "1  [-91.2174, 36.981705, -45.237736, 15.399293, -...   \n",
       "2  [-120.73574, 12.558679, -12.888041, 18.465538,...   \n",
       "3  [-110.794426, 60.969246, -27.25241, 27.65341, ...   \n",
       "4  [-113.74422, 39.605103, 3.148195, 16.654724, -...   \n",
       "\n",
       "                                      mfccFeature_12  \\\n",
       "0  [-144.54657, 73.51131, -42.571526, 41.40492, -...   \n",
       "1  [-94.444954, 33.28783, -40.285347, 14.76215, -...   \n",
       "2  [-81.81689, 7.2747955, 12.102402, 14.891207, -...   \n",
       "3  [-129.16501, 68.22477, -29.361546, 32.732735, ...   \n",
       "4  [-108.198296, 48.04848, 7.786687, 8.575267, -1...   \n",
       "\n",
       "                                      mfccFeature_13  \\\n",
       "0  [-115.76852, 71.06869, -31.96592, 30.187737, -...   \n",
       "1  [-99.30495, 35.224487, -36.45945, 15.216014, -...   \n",
       "2  [-53.06991, 28.00821, 6.76112, 18.532784, 13.0...   \n",
       "3  [-146.1118, 66.46302, -26.96767, 32.903393, -2...   \n",
       "4  [-88.32984, 75.2619, -6.3937626, 0.48765588, -...   \n",
       "\n",
       "                                      mfccFeature_14  \n",
       "0  [-96.369934, 52.596283, -27.740112, 22.988165,...  \n",
       "1  [-112.03816, 39.81852, -34.19614, 17.009323, -...  \n",
       "2  [-51.70062, 48.94967, -15.225374, 22.308327, 0...  \n",
       "3  [-135.00584, 69.163635, -25.27483, 24.135199, ...  \n",
       "4  [-94.94488, 91.84897, -35.194893, 0.31466606, ...  "
      ]
     },
     "execution_count": 11,
     "metadata": {},
     "output_type": "execute_result"
    }
   ],
   "source": [
    "tracksAudioFeaturesComplete.head(5)"
   ]
  },
  {
   "cell_type": "code",
   "execution_count": 13,
   "id": "725e63b9",
   "metadata": {},
   "outputs": [
    {
     "data": {
      "text/plain": [
       "(79940, 18)"
      ]
     },
     "execution_count": 13,
     "metadata": {},
     "output_type": "execute_result"
    }
   ],
   "source": [
    "tracksAudioFeaturesComplete.shape"
   ]
  },
  {
   "cell_type": "code",
   "execution_count": 14,
   "id": "46018886",
   "metadata": {},
   "outputs": [],
   "source": [
    "tracksAudioFeaturesComplete.to_csv('tracksAudioFeatures/tracksAudioFeaturesComplete.csv')"
   ]
  },
  {
   "cell_type": "code",
   "execution_count": null,
   "id": "3aabe3fd",
   "metadata": {},
   "outputs": [],
   "source": []
  }
 ],
 "metadata": {
  "kernelspec": {
   "display_name": "Python 3 (ipykernel)",
   "language": "python",
   "name": "python3"
  },
  "language_info": {
   "codemirror_mode": {
    "name": "ipython",
    "version": 3
   },
   "file_extension": ".py",
   "mimetype": "text/x-python",
   "name": "python",
   "nbconvert_exporter": "python",
   "pygments_lexer": "ipython3",
   "version": "3.9.7"
  }
 },
 "nbformat": 4,
 "nbformat_minor": 5
}
